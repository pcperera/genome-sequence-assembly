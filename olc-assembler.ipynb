{
 "cells": [
  {
   "cell_type": "code",
   "outputs": [
    {
     "name": "stdout",
     "output_type": "stream",
     "text": [
      "Looking in indexes: https://pypi.python.org/simple, https://cognite.jfrog.io/cognite/api/pypi/snakepit/simple\r\n",
      "Requirement already satisfied: biopython in /home/priyanka/etc/anaconda3/lib/python3.9/site-packages (1.83)\r\n",
      "Requirement already satisfied: numpy in /home/priyanka/etc/anaconda3/lib/python3.9/site-packages (from biopython) (1.21.5)\r\n",
      "Looking in indexes: https://pypi.python.org/simple, https://cognite.jfrog.io/cognite/api/pypi/snakepit/simple\r\n",
      "Requirement already satisfied: pysam in /home/priyanka/etc/anaconda3/lib/python3.9/site-packages (0.22.0)\r\n"
     ]
    }
   ],
   "source": [
    "!pip install biopython\n",
    "!pip install pysam"
   ],
   "metadata": {
    "collapsed": false,
    "ExecuteTime": {
     "end_time": "2024-03-12T02:43:49.160451385Z",
     "start_time": "2024-03-12T02:43:44.468317280Z"
    }
   },
   "id": "96868699c8a709e0",
   "execution_count": 4
  },
  {
   "cell_type": "code",
   "execution_count": 5,
   "id": "initial_id",
   "metadata": {
    "collapsed": true,
    "ExecuteTime": {
     "end_time": "2024-03-12T02:43:49.164525911Z",
     "start_time": "2024-03-12T02:43:49.162587250Z"
    }
   },
   "outputs": [],
   "source": [
    "from Bio import SeqIO\n",
    "from Bio.Seq import Seq\n",
    "from Bio.SeqRecord import SeqRecord"
   ]
  },
  {
   "cell_type": "code",
   "outputs": [],
   "source": [
    "def read_fastq(file):\n",
    "    records = []\n",
    "    with open(file, \"r\") as handle:\n",
    "        for record in SeqIO.parse(handle, \"fastq\"):\n",
    "            records.append(record)\n",
    "    return records"
   ],
   "metadata": {
    "collapsed": false,
    "ExecuteTime": {
     "end_time": "2024-03-12T02:43:49.172054118Z",
     "start_time": "2024-03-12T02:43:49.165051293Z"
    }
   },
   "id": "504febfdd93aec1a",
   "execution_count": 6
  },
  {
   "cell_type": "code",
   "outputs": [],
   "source": [
    "def olc_assembly(r1_reads, r2_reads):\n",
    "    assembled_sequences = []\n",
    "    for read1 in r1_reads:\n",
    "        for read2 in r2_reads:\n",
    "            if read1.id == read2.id:  # Match paired-end reads by ID\n",
    "                overlap_length = len(read1.seq)  # Assume full overlap for simplicity\n",
    "                assembled_seq = read1.seq + read2.seq[overlap_length:]  # Concatenate overlapping parts\n",
    "                assembled_record = SeqRecord(assembled_seq, id=read1.id, description=\"\")\n",
    "                assembled_sequences.append(assembled_record)\n",
    "                break\n",
    "    return assembled_sequences"
   ],
   "metadata": {
    "collapsed": false,
    "ExecuteTime": {
     "end_time": "2024-03-12T02:43:49.177488852Z",
     "start_time": "2024-03-12T02:43:49.172517527Z"
    }
   },
   "id": "4b51028f2ab98af4",
   "execution_count": 7
  },
  {
   "cell_type": "code",
   "outputs": [],
   "source": [
    "# Read paired-end reads from FASTQ files\n",
    "r1_fastq_reads = read_fastq(\"data/mutant_R1.fastq\")\n",
    "r2_fastq_reads = read_fastq(\"data/mutant_R2.fastq\")"
   ],
   "metadata": {
    "collapsed": false,
    "ExecuteTime": {
     "end_time": "2024-03-12T02:57:15.937446986Z",
     "start_time": "2024-03-12T02:57:08.062971372Z"
    }
   },
   "id": "6021b8831ed80c8b",
   "execution_count": 10
  },
  {
   "cell_type": "code",
   "outputs": [
    {
     "data": {
      "text/plain": "[]"
     },
     "execution_count": 12,
     "metadata": {},
     "output_type": "execute_result"
    }
   ],
   "source": [
    "# Perform overlap-layout-consensus assembly\n",
    "olc_assembled_sequences = olc_assembly(r1_reads=r1_fastq_reads, r2_reads=r2_fastq_reads)\n",
    "olc_assembled_sequences"
   ],
   "metadata": {
    "collapsed": false,
    "ExecuteTime": {
     "end_time": "2024-03-12T02:58:23.822457816Z",
     "start_time": "2024-03-12T02:58:16.255711173Z"
    }
   },
   "id": "1b9940739b3324f6",
   "execution_count": 12
  },
  {
   "cell_type": "code",
   "outputs": [],
   "source": [
    "# Write assembled sequences to a FASTA file\n",
    "with open(\"results/olc_assembled_sequences.fasta\", \"w\") as output_handle:\n",
    "    SeqIO.write(olc_assembled_sequences, output_handle, \"fasta\")"
   ],
   "metadata": {
    "collapsed": false
   },
   "id": "dfc6747fa2f0e896"
  }
 ],
 "metadata": {
  "kernelspec": {
   "display_name": "Python 3",
   "language": "python",
   "name": "python3"
  },
  "language_info": {
   "codemirror_mode": {
    "name": "ipython",
    "version": 2
   },
   "file_extension": ".py",
   "mimetype": "text/x-python",
   "name": "python",
   "nbconvert_exporter": "python",
   "pygments_lexer": "ipython2",
   "version": "2.7.6"
  }
 },
 "nbformat": 4,
 "nbformat_minor": 5
}
